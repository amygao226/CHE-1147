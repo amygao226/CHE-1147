{
  "cells": [
    {
      "cell_type": "markdown",
      "metadata": {
        "id": "CLrFOnjTeIRw"
      },
      "source": [
        "[![Open In Colab](https://colab.research.google.com/assets/colab-badge.svg)](https://colab.research.google.com/github/AI4ChemS/CHE-1147/blob/main/tutorials/tutorial_supervised_learning.ipynb)"
      ]
    },
    {
      "cell_type": "markdown",
      "metadata": {
        "id": "OtmuURv0eIR1"
      },
      "source": [
        "# Supervised Learning Workflow"
      ]
    },
    {
      "cell_type": "markdown",
      "metadata": {
        "id": "b8CAPgIxeIR1"
      },
      "source": [
        "## Machine learning for discovery of MOFs for gas separation applications\n",
        "\n",
        "In this notebook we will build machine learning models that can predict the gas uptake (carbon dioxide and methane 甲烷) of metal-organic frameworks (MOFs), which are crystalline materials consisting of inorganic metal nodes linked by organic linkers. The discovery of MOFs for carbon capture is needed for emission reduction technologies, as these materials can efficiently adsorb and store greenhouse gases like CO$_2$. Machine learning accelerates this discovery process by enabling the prediction of gas uptake properties from structural and chemical descriptors, reducing the need for time-consuming and costly experiments or simulations.\n",
        "\n",
        "在本笔记本中，我们将构建机器学习模型，用于预测金属有机框架（MOFs）的气体吸附量（包括二氧化碳和甲烷）。MOFs 是一种晶体材料，由无机金属节点通过有机连接体连接而成。开发用于碳捕集的 MOFs 对减排技术至关重要，因为这些材料能够高效吸附和储存温室气体（如 CO₂）。机器学习通过利用结构和化学描述符来预测气体吸附性能，加速了这一发现过程，从而减少了耗时且昂贵的实验或模拟的需求。\n",
        "\n",
        "![MOF building principle](https://github.com/AI4ChemS/CHE-1147/blob/main/assets/mof_building_principle.png?raw=1)\n",
        "\n",
        "There are two main **learning goals** for our tutorial:\n",
        "\n",
        "1. Understand the typical workflow for machine learning in chemistry and materials. We will cover exploratory data analysis (EDA) and supervised learning (KRR).\n",
        "\n",
        "2. Get familiar with some Python packages that are useful for data analysis and visualization.\n",
        "\n",
        "At the end of the exercise, you will produce plot like the one below, comparing the predictions of your model against computed values from GCMC simulations.\n",
        "The histograms show the distributions of the errors on the training set (left) and on the test set (right).\n",
        "\n",
        "\n",
        "\n",
        "<img src=\"https://github.com/AI4ChemS/CHE-1147/blob/main/assets/result.gif?raw=1\" alt=\"Parity interactive\" width=\"700\"/>\n",
        "\n",
        "We will be using scikit-learn for modeling. The [sklearn documentation](https://scikit-learn.org/stable/user_guide.html) is a great source of reference with many explanations and examples. Also, we use Pandas dataframe (df) for data manipulation. You can select columns using their name by running `df[columnname]`. If at any point you think that the dataset is too large for your computer, you can select a subset using `df.sample()` or by making the test set larger in the train/test split (section 2).\n",
        "\n",
        "我们将使用 **scikit-learn** 来进行建模。 [scikit-learn 文档](https://scikit-learn.org/stable/user_guide.html) 是一个很好的参考资料，提供了许多解释和示例。同时，我们使用 **Pandas DataFrame（df）** 进行数据处理。你可以通过运行 `df[columnname]` 来按列名选择列。如果在某些情况下你觉得数据集对你的电脑来说过大，可以使用 `df.sample()` 选择一个子集，或者在训练/测试集划分（第 2 节）中增大测试集的比例。\n"
      ]
    },
    {
      "cell_type": "markdown",
      "metadata": {
        "id": "xyiYQ6OIeIR2"
      },
      "source": [
        "> **Credit:** This notebook is adapted from our (Mohamad Moosavi and Kevin Jablonka) lecture and hands-on session in MolSim winter school in Amsterdam.\n",
        "> - [MolSim](https://www.compchem.nl/molsim/) course website.\n",
        "> - [kjappelbaum/ml_molsim](https://github.com/kjappelbaum/ml_molsim) on GitHub."
      ]
    },
    {
      "cell_type": "markdown",
      "metadata": {
        "id": "QEdRiKkHeIR3"
      },
      "source": [
        "## 0. Setup programming environment"
      ]
    },
    {
      "cell_type": "markdown",
      "metadata": {
        "id": "V_YiUo3LeIR3"
      },
      "source": [
        "### 0.1 Installing packages\n",
        "\n",
        "If you are running this notebook locally after cloning [UofT-CHE1147](https://github.com/AI4ChemS/CHE1147) repo, simply install the conda environment\n",
        "\n",
        "```python\n",
        "conda env create -f environment.yml\n",
        "conda activate che1147\n",
        "```"
      ]
    },
    {
      "cell_type": "markdown",
      "metadata": {
        "id": "wHykhICGeIR4"
      },
      "source": [
        "If you are running this notebook on Google Colab, please uncomment the lines below (remove the `#`) and execute the cell."
      ]
    },
    {
      "cell_type": "code",
      "execution_count": null,
      "metadata": {
        "id": "hsu7pHKDeIR4"
      },
      "outputs": [],
      "source": [
        "# import os, sys, urllib.request\n",
        "\n",
        "# !pip install -r https://github.com/AI4ChemS/CHE1147/raw/refs/heads/main/requirements_colab.txt\n",
        "\n",
        "# CHE1147_DIR = \"/content/che1147_files\"\n",
        "# os.makedirs(CHE1147_DIR, exist_ok=True)\n",
        "# data_URL = \"https://github.com/AI4ChemS/CHE1147/raw/refs/heads/main/data/MOF_CoRE2019.csv\"\n",
        "# descriptors_URL = \"https://github.com/AI4ChemS/CHE1147/raw/refs/heads/main/tutorials/MOF_descriptors.py\"\n",
        "\n",
        "# local_descriptor_path = os.path.join(CHE1147_DIR, \"MOF_descriptors.py\")\n",
        "# urllib.request.urlretrieve(descriptors_URL, local_descriptor_path)\n",
        "\n",
        "# local_data_path = os.path.join(CHE1147_DIR, \"MOF_CoRE2019.csv\")\n",
        "# urllib.request.urlretrieve(data_URL, os.path.join(CHE1147_DIR, \"MOF_CoRE2019.csv\"))\n",
        "\n",
        "# if CHE1147_DIR not in sys.path:\n",
        "#     sys.path.append(CHE1147_DIR)\n"
      ]
    },
    {
      "cell_type": "markdown",
      "metadata": {
        "id": "pw-AQgFNeIR6"
      },
      "source": [
        "### 0.2 Import packages we will need"
      ]
    },
    {
      "cell_type": "markdown",
      "metadata": {
        "id": "8gXfMrQVeIR7"
      },
      "source": [
        "> Note, if you are using colab, you may need to install some of the packages."
      ]
    },
    {
      "cell_type": "code",
      "execution_count": null,
      "metadata": {
        "id": "pSuy8SjaeIR7"
      },
      "outputs": [],
      "source": [
        "# basics\n",
        "import os\n",
        "import numpy as np\n",
        "import pprint as pp\n",
        "\n",
        "# pandas is used to read/process data\n",
        "import pandas as pd\n",
        "from ydata_profiling import ProfileReport\n",
        "\n",
        "# machine learning dependencies\n",
        "# scaling of data\n",
        "from sklearn.preprocessing import StandardScaler, MinMaxScaler, RobustScaler\n",
        "# train/test split\n",
        "from sklearn.model_selection import train_test_split\n",
        "# model selection\n",
        "from sklearn.model_selection import GridSearchCV, RandomizedSearchCV\n",
        "# the KRR model\n",
        "from sklearn.kernel_ridge import KernelRidge\n",
        "# linear model\n",
        "from sklearn.linear_model import LinearRegression, SGDRegressor\n",
        "# pipeline to streamline modeling pipelines\n",
        "from sklearn.pipeline import Pipeline\n",
        "# principal component analysis\n",
        "from sklearn.decomposition import PCA\n",
        "# polynomial kernel\n",
        "from sklearn.metrics.pairwise import polynomial_kernel\n",
        "# Dummy model as baseline\n",
        "from sklearn.dummy import DummyClassifier, DummyRegressor\n",
        "# Variance Threshold for feature selection\n",
        "from sklearn.feature_selection import VarianceThreshold, SelectFromModel\n",
        "# metrics to measure model performance\n",
        "from sklearn.metrics import (accuracy_score, precision_score, recall_score, f1_score,\n",
        "                             mean_absolute_error, mean_squared_error, max_error, mean_absolute_percentage_error)\n",
        "\n",
        "# save/load models\n",
        "import joblib\n",
        "\n",
        "# For the permutation importance implementation\n",
        "from joblib import Parallel\n",
        "from joblib import delayed\n",
        "from sklearn.metrics import check_scoring\n",
        "from sklearn.utils import Bunch\n",
        "from sklearn.utils import check_random_state\n",
        "from sklearn.utils import check_array\n",
        "\n",
        "# plotting\n",
        "import seaborn as sns\n",
        "import matplotlib.pyplot as plt\n",
        "%matplotlib inline"
      ]
    },
    {
      "cell_type": "markdown",
      "metadata": {
        "id": "2rAttvOceIR7"
      },
      "source": [
        "### 0.3 Fix the random seed"
      ]
    },
    {
      "cell_type": "code",
      "execution_count": null,
      "metadata": {
        "id": "cgfCdsF2eIR8"
      },
      "outputs": [],
      "source": [
        "# add code here\n",
        "RANDOM_SEED = #FILLME\n",
        "np.random.seed(RANDOM_SEED)"
      ]
    },
    {
      "cell_type": "markdown",
      "metadata": {
        "id": "_dnf_flSeIR8"
      },
      "source": [
        " $\\color{Aqua}{\\textsf{Short question}}$\n",
        "- We declared a global variable to fix the random seed (`RANDOM_SEED`). Why did we do this?  "
      ]
    },
    {
      "cell_type": "markdown",
      "metadata": {
        "id": "qEi5jwSZeIR8"
      },
      "source": [
        "### 0.4 Import the data"
      ]
    },
    {
      "cell_type": "markdown",
      "metadata": {
        "id": "-UoDDyxGeIR8"
      },
      "source": [
        "The dataset used in this tutorial originates from the publication [\"Understanding the diversity of the metal-organic framework ecosystem\"](https://doi.org/10.1038/s41467-020-17755-8), which explores the application of machine learning for predicting gas adsorption properties in MOFs. This dataset contains geometric and chemical descriptors, as well as simulated gas uptake values, enabling the development and evaluation of regression models for materials discovery."
      ]
    },
    {
      "cell_type": "code",
      "execution_count": null,
      "metadata": {
        "id": "vZzVIyyIeIR8"
      },
      "outputs": [],
      "source": [
        "# load data locally\n",
        "\n",
        "running_in_colab = 'google.colab' in str(get_ipython())\n",
        "\n",
        "if running_in_colab:\n",
        "    DATA_DIR = \"/content/che1147_files\"\n",
        "    DATA_FILE = os.path.join(DATA_DIR, \"MOF_CoRE2019.csv\")\n",
        "else:\n",
        "    DATA_DIR = \"../data\"\n",
        "    DATA_FILE = os.path.join(DATA_DIR, \"MOF_CoRE2019.csv\")\n",
        "\n",
        "try:\n",
        "    df = pd.read_csv(DATA_FILE)\n",
        "    print(f\"✅ Loaded data from {DATA_FILE}, shape = {df.shape}\")\n",
        "\n",
        "except FileNotFoundError:\n",
        "    # Fallback: try to load from GitHub raw URL\n",
        "    url = \"https://github.com/AI4ChemS/CHE1147/raw/refs/heads/main/data/MOF_CoRE2019.csv\"\n",
        "    try:\n",
        "        df = pd.read_csv(url)\n",
        "        print(f\"🌐 Loaded data from GitHub, shape = {df.shape}\")\n",
        "    except Exception as e:\n",
        "        print(f\"❌ Could not find {DATA_FILE} locally or on GitHub.\")\n",
        "        raise e"
      ]
    },
    {
      "cell_type": "markdown",
      "metadata": {
        "id": "m4LmUR8LeIR9"
      },
      "source": [
        "Let's take a look at the first few rows to see if everythings seems reasonable ..."
      ]
    },
    {
      "cell_type": "code",
      "execution_count": null,
      "metadata": {
        "id": "yl5pUAeqeIR9"
      },
      "outputs": [],
      "source": [
        "df.head()"
      ]
    },
    {
      "cell_type": "markdown",
      "metadata": {
        "id": "3TUj12N3eIR9"
      },
      "source": [
        "<details>\n",
        "<summary> <font color='green'>Click here for a hint</font></summary>\n",
        "<ul>\n",
        "    <li>Use something like <code>pd.options.display.max_columns=100</code> to adjust how many columns are shown.<code>pd.options.display.max_columns=100</code>  would show at maximum 100 columns. </li>\n",
        "</ul>\n",
        "</details>"
      ]
    },
    {
      "cell_type": "markdown",
      "metadata": {
        "id": "gziGF1g8eIR9"
      },
      "source": [
        "Let's also get some basic information ..."
      ]
    },
    {
      "cell_type": "code",
      "execution_count": null,
      "metadata": {
        "id": "52LnNAkreIR9"
      },
      "outputs": [],
      "source": [
        "df.info()"
      ]
    },
    {
      "cell_type": "markdown",
      "metadata": {
        "id": "Wvom6BsoeIR9"
      },
      "source": [
        " $\\color{Aqua}{\\textsf{Short question}}$\n",
        "- How many materials are in the dataset?\n",
        "- Which datatypes do we deal with?"
      ]
    },
    {
      "cell_type": "markdown",
      "metadata": {
        "id": "vusi7wwaeIR9"
      },
      "source": [
        "### 0.7 Understanding the data\n",
        "\n",
        "As descriptors we will use pore geometric descriptors, such as density, pore volume, etc. and [revised autocorrelation functions](https://www.nature.com/articles/s41467-020-17755-8) (RACs) for describing chemistry of MOFs. Our dataset has four properties for MOFs:\n",
        "- CO2 uptake at 0.15 bar and 298K\n",
        "- CO2 uptake at 16 bar and 298K\n",
        "- CH4 uptake at 5.8 bar and 298K\n",
        "- CH4 uptake at 65 bar and 298K\n",
        "\n",
        "\n",
        "Let's start with a simple one that is the high-pressure CO$_2$ uptake `df[\"CO2 uptake at 16 bar and 298K\"]`. This is the amount of CO$_2$ (mmol) the MOF can load per gram.\n",
        "\n",
        "Below, we define three global variables (hence upper case), which are the *names* of our feature and target columns. We will use the `TARGET` for the actual regression and the `TARGET_BINARY` only for the stratified train/test split. The `FEATURES` variable is a list of column names of our dataframe. We imported the names of descriptors from `MOF_descriptors.py`."
      ]
    },
    {
      "cell_type": "code",
      "execution_count": null,
      "metadata": {
        "id": "0fEJTL3leIR-"
      },
      "outputs": [],
      "source": [
        "# name of descriptors\n",
        "from MOF_descriptors import geometric_descriptors, linker_descriptors, metalcenter_descriptors, functionalgroup_descriptors, summed_linker_descriptors, summed_metalcenter_descriptors, summed_functionalgroup_descriptors\n",
        "\n",
        "TARGET = \"CO2 uptake at 16 bar and 298K\"\n",
        "FEATURES = (\n",
        "    geometric_descriptors\n",
        "    + summed_functionalgroup_descriptors\n",
        "    + summed_linker_descriptors\n",
        "    + summed_metalcenter_descriptors\n",
        ")"
      ]
    },
    {
      "cell_type": "markdown",
      "metadata": {
        "id": "MNmbn9vueIR-"
      },
      "source": [
        "Examples for pore geometry descriptors (in `geometric_descriptors`) include: $D_i$ (the size of the largest included sphere), $D_f$ (the largest free sphere), and $D_{if}$ (the largest included free sphere) along the pore $-$ three ways of characterizing pore size.\n",
        "\n",
        "![pore diameters](https://github.com/AI4ChemS/CHE-1147/blob/main/assets/spheres.png?raw=1)\n",
        "\n",
        "Also included are the surface area (SA) of the pore, and the probe-occupiable pore volume (POV).\n",
        "More details on the description of pore geometries can be found in [Ongari et al.](https://pubs.acs.org/doi/abs/10.1021/acs.langmuir.7b01682)"
      ]
    },
    {
      "cell_type": "markdown",
      "metadata": {
        "id": "K8EPnwtneIR-"
      },
      "source": [
        "RACs (in the lists starting with `summed_...`) operate on the structure graph and encode information about the metal center, linkers and the functional groups as differences or products of heuristics that are relevant for inorganic chemistry, such as electronegativity ($\\chi$), connectivity ($T$), identity ($I$), covalent radii ($S$), and nuclear charge ($Z$)."
      ]
    },
    {
      "cell_type": "markdown",
      "metadata": {
        "id": "9ntmuNfSeIR-"
      },
      "source": [
        "\n",
        "<img src=\"https://github.com/AI4ChemS/CHE-1147/blob/main/assets/racs.png?raw=1\" alt=\"RACs scheme from the lecture\" width=\"700\"/>"
      ]
    },
    {
      "cell_type": "markdown",
      "metadata": {
        "id": "0jINqZPFeIR-"
      },
      "source": [
        "The number in the descriptornames shows the coordination shell that was considered in the calculation of the RACs."
      ]
    },
    {
      "cell_type": "markdown",
      "metadata": {
        "id": "5P10uALteIR-"
      },
      "source": [
        "### 0.6 Basic Data Cleaning and Preparation\n",
        "\n",
        "We perform some data cleaning by removing instances with missing value and removing duplicates.\n",
        "\n",
        " $\\color{Aqua}{\\textsf{Short question}}$\n",
        "- We we identify a missing value, should we remove that cell, the column or the row with missing value?"
      ]
    },
    {
      "cell_type": "code",
      "execution_count": null,
      "metadata": {
        "id": "J8aTBw34eIR-"
      },
      "outputs": [],
      "source": [
        "num_rows_with_nan = df.isna().any(axis=1).sum()\n",
        "print(f\"Number of rows with NaN values: {num_rows_with_nan}\")"
      ]
    },
    {
      "cell_type": "markdown",
      "metadata": {
        "id": "S1xsFRuFeIR_"
      },
      "source": [
        "Write a code to remove the NaN:"
      ]
    },
    {
      "cell_type": "code",
      "execution_count": null,
      "metadata": {
        "id": "l4ZbVcereIR_"
      },
      "outputs": [],
      "source": [
        "# FILLME"
      ]
    },
    {
      "cell_type": "markdown",
      "metadata": {
        "id": "tF4zZUDpeIR_"
      },
      "source": [
        "Next, we should remove duplicate rows, ensuring dataset contains only unique samples."
      ]
    },
    {
      "cell_type": "code",
      "execution_count": null,
      "metadata": {
        "id": "hGL72J2SeIR_"
      },
      "outputs": [],
      "source": [
        "## FILLME"
      ]
    },
    {
      "cell_type": "markdown",
      "metadata": {
        "id": "2WE1xKnKeIR_"
      },
      "source": [
        " $\\color{Aqua}{\\textsf{Short question}}$\n",
        "- How many duplicated entries did we remove?"
      ]
    },
    {
      "cell_type": "markdown",
      "metadata": {
        "id": "njQNsNQYeIR_"
      },
      "source": [
        "## 1. Split the data"
      ]
    },
    {
      "cell_type": "markdown",
      "metadata": {
        "id": "QH-wHMEweIR_"
      },
      "source": [
        "As the first step, we split our data into a training set and a test set. In order to prevent *any* information of the test set from leaking into our model, we split *before* starting to analyze or transform our data.\n",
        "> **Note:** Not doing the split at this stage can cause data leakage."
      ]
    },
    {
      "cell_type": "markdown",
      "metadata": {
        "id": "d4lpZkUOeIR_"
      },
      "source": [
        "## 1.1 Random splitting\n",
        "\n",
        "A common way of splitting data is random splitting. We can use `sklearn's train_test_split` for doing this.\n",
        "\n",
        "Depending on the size of the dataset, we might have different splitting ratio. Common split rations are:\n",
        "- **80/20 Split**: 80% for training, 20% for testing.\n",
        "- **Train/Validation/Test Split**: For larger datasets, a common split is 70% training, 15% validation, and 15% testing."
      ]
    },
    {
      "cell_type": "code",
      "execution_count": null,
      "metadata": {
        "id": "wpMnKRZGeISE"
      },
      "outputs": [],
      "source": [
        "df_train, df_test = train_test_split(\n",
        "    df,\n",
        "    test_size=0.2,  # 20% for testing\n",
        "    random_state=RANDOM_SEED  # Ensure reproducibility\n",
        ")"
      ]
    },
    {
      "cell_type": "markdown",
      "metadata": {
        "id": "Ikw6Vz8OeISF"
      },
      "source": [
        "### 1.1. Split with stratification"
      ]
    },
    {
      "cell_type": "markdown",
      "metadata": {
        "id": "wNjwD_H9eISF"
      },
      "source": [
        "Random splitting may lead to imbalanced class distributions between training and test sets, which can result in biased model evaluation and poor generalization.\n",
        "[Stratification](https://en.wikipedia.org/wiki/Stratified_sampling) ensures that the class distributions (ratio of \"good\" to \"bad\" materials) are the same in the training and test set.\n",
        "\n",
        " $\\color{Aqua}{\\textsf{Short question}}$\n",
        "\n",
        "- Why is this important? What could happen if we would not do this?"
      ]
    },
    {
      "cell_type": "markdown",
      "metadata": {
        "id": "xFmezViweISF"
      },
      "source": [
        "For stratification to work, we to define what makes a \"good\" or a \"bad\" material. This requires knowing the target property of interest. Let's start with developing a model for a simple target, which is CO2 uptake at room temperature and high pressure (16bar)."
      ]
    },
    {
      "cell_type": "markdown",
      "metadata": {
        "id": "BI2YDaczeISF"
      },
      "source": [
        " $\\color{Aqua}{\\textsf{Short question}}$\n",
        "- How can we choose a good value to for classifying \"good\" and \"bad\" materials?  \n",
        "\n",
        "<details>\n",
        "<summary> <font color='green'>Click here for a hint</font></summary>\n",
        "<ul>\n",
        "    You can choose it based on the histogram of the property of interest.\n",
        "</ul>\n",
        "</details>"
      ]
    },
    {
      "cell_type": "code",
      "execution_count": null,
      "metadata": {
        "id": "xlQJ2S8LeISF"
      },
      "outputs": [],
      "source": [
        "# add code here\n",
        "# Plot histogram of the target\n",
        "plt.figure(figsize=(8, 4))\n",
        "sns.histplot(df[TARGET], kde=True, bins=30, color='blue')\n",
        "\n",
        "# Add labels and title\n",
        "plt.xlabel(\"{TARGET}\", fontsize=12)\n",
        "plt.ylabel(\"Frequency\", fontsize=12)\n",
        "plt.title(\"Histogram of {TARGET}\", fontsize=14)\n",
        "\n",
        "# Show the plot\n",
        "plt.grid(axis='y', linestyle='--', alpha=0.7)\n",
        "plt.show()"
      ]
    },
    {
      "cell_type": "markdown",
      "metadata": {
        "id": "rQMlBixNeISF"
      },
      "source": [
        "\n",
        "Based on this histogram and the tail of the distribution, we will use 15 mmol CO$_2$ / g as the threshold for the uptake, thus binarizing our continuous target variable. We use this threshold to define a new column with binary values of 0 and 1 for bad and good materials."
      ]
    },
    {
      "cell_type": "markdown",
      "metadata": {
        "id": "tetHYGXoeISG"
      },
      "source": [
        " $\\color{Aqua}{\\textsf{Short question}}$\n",
        " - add a column 'target_binary' that encodes whether a material is low performing (`0`) or high perfoming (`1`) by comparing the uptake with the `THRESHOLD`"
      ]
    },
    {
      "cell_type": "markdown",
      "metadata": {
        "id": "jO5k-hUNeISG"
      },
      "source": [
        "<details>\n",
        "<summary> <font color='green'>Click here for a hint</font></summary>\n",
        "<ul>\n",
        "    <li> you can use <a href='https://pandas.pydata.org/pandas-docs/stable/reference/api/pandas.cut.html'>pd.cut</a>,\n",
        "    <a href='https://stackoverflow.com/questions/4406389/if-else-in-a-list-comprehension'>list comprehension</a>, the <a href='https://scikit-learn.org/stable/modules/generated/sklearn.preprocessing.Binarizer.html#sklearn.preprocessing.Binarizer'> binarizer in sklearn </a>...) </li>\n",
        "    <li> a list comprehension example: <code> [1 if value > THRESHOLD else 0 for value in df[TARGET]] </code> </li>\n",
        "</ul>\n",
        "</details>"
      ]
    },
    {
      "cell_type": "code",
      "execution_count": null,
      "metadata": {
        "id": "NorPPIPUeISG"
      },
      "outputs": [],
      "source": [
        "TARGET_BINARY = \"target_binned\" # name of the new binary target column\n",
        "THRESHOLD = df[TARGET].quantile(0.9)  # Top 10% of the dataset\n",
        "df[TARGET_BINARY] = (df[TARGET] > THRESHOLD).astype(int)"
      ]
    },
    {
      "cell_type": "markdown",
      "metadata": {
        "id": "dt7sjmoAeISG"
      },
      "source": [
        "Now, we can perform the actual split into training and test set using stratified sampling."
      ]
    },
    {
      "cell_type": "markdown",
      "metadata": {
        "id": "PTj6DMuzeISG"
      },
      "source": [
        " $\\color{Aqua}{\\textsf{Short question}}$\n",
        "- select reasonable values for `XX` and `XY` and then perform the test/train splits. What do you consider when making this decision (think about what you would do with really small and really big datasets, what happens if you have only one test point, what happens to the model performance if you have more test points than training points)?\n",
        "- why do we need to perform the split into a training and test set?\n",
        "- would we use the test set to tune the hyperparameters of our model?\n",
        "\n",
        "<details>\n",
        "<summary> <font color='green'>Click here for a hint</font></summary>\n",
        "<ul>\n",
        "    <li>The `size` arguments can either be integers or, often more convenient, decimals like 0.1</li>\n",
        "    <li>When you perform the split into training and test set you need to trade-off bias (pessimistic bias due to little training data) and variance (due to little test data) </li>\n",
        "    <li>A typical split cloud be 70/30, but for huge dataset the test set might be too big and for small datasets the training set might be too small in this way </li>\n",
        "</ul>\n",
        "</details>"
      ]
    },
    {
      "cell_type": "code",
      "execution_count": null,
      "metadata": {
        "id": "1_vHotSUeISG"
      },
      "outputs": [],
      "source": [
        "# add code here\n"
      ]
    },
    {
      "cell_type": "code",
      "execution_count": null,
      "metadata": {
        "id": "skDJF-L0eISG"
      },
      "outputs": [],
      "source": [
        "df_train_stratified, df_test_stratified = train_test_split(\n",
        "    df,\n",
        "    train_size=XX,\n",
        "    test_size=YY,\n",
        "    random_state=RANDOM_SEED,\n",
        "    stratify= # FILLME\n",
        ")"
      ]
    },
    {
      "cell_type": "markdown",
      "metadata": {
        "id": "6ak-awDoeISH"
      },
      "source": [
        "Check if splitting is reasonable:"
      ]
    },
    {
      "cell_type": "code",
      "execution_count": null,
      "metadata": {
        "id": "ox1cteXWeISH"
      },
      "outputs": [],
      "source": [
        "df_train_stratified.head()"
      ]
    },
    {
      "cell_type": "code",
      "execution_count": null,
      "metadata": {
        "id": "PUwmdlsUeISH"
      },
      "outputs": [],
      "source": [
        "df_test_stratified.head()"
      ]
    },
    {
      "cell_type": "markdown",
      "metadata": {
        "id": "-PlUisQ2eISH"
      },
      "source": [
        "## 2. Exploratory data analysis (EDA)"
      ]
    },
    {
      "cell_type": "markdown",
      "metadata": {
        "id": "PitqCAHfeISH"
      },
      "source": [
        "After we have put the test set aside, we can give the training set a closer look."
      ]
    },
    {
      "cell_type": "markdown",
      "metadata": {
        "id": "Q4QVZMLPeISH"
      },
      "source": [
        "## 2.1 ydata profiling"
      ]
    },
    {
      "cell_type": "markdown",
      "metadata": {
        "id": "YCcfTE2AeISH"
      },
      "source": [
        "> this part takes long so let's do it at home!"
      ]
    },
    {
      "cell_type": "code",
      "execution_count": null,
      "metadata": {
        "id": "HhnGX_TveISI"
      },
      "outputs": [],
      "source": [
        "# profile = ProfileReport(df_train_stratified, title=\"EDA Report\", explorative=True)"
      ]
    },
    {
      "cell_type": "code",
      "execution_count": null,
      "metadata": {
        "id": "zs-c-hSyeISI"
      },
      "outputs": [],
      "source": [
        "# profile.to_notebook_iframe()"
      ]
    },
    {
      "cell_type": "code",
      "execution_count": null,
      "metadata": {
        "id": "oIHEZ7IheISI"
      },
      "outputs": [],
      "source": [
        "# Save to an html file\n",
        "# profile.to_file(\"MOF_eda_report.html\")"
      ]
    },
    {
      "cell_type": "markdown",
      "metadata": {
        "id": "OOJZ6f9IeISI"
      },
      "source": [
        "### 2.2 Removing redundant columns\n",
        "\n",
        "We remove any feature that does not have variance across the dataset to reduce dimensionality.\n",
        "Write a code below that makes a list of features (`redundant_features`) with zero variance."
      ]
    },
    {
      "cell_type": "code",
      "execution_count": null,
      "metadata": {
        "id": "prbwTBPkeISI"
      },
      "outputs": [],
      "source": [
        "# FILLME"
      ]
    },
    {
      "cell_type": "code",
      "execution_count": null,
      "metadata": {
        "id": "Y8VHQd4XeISI"
      },
      "outputs": [],
      "source": [
        "# update feature set\n",
        "print(f\"Number of features before: {len(FEATURES)}\")\n",
        "FEATURES = [feature for feature in FEATURES if not feature in redundant_features]\n",
        "print(f\"Number of features after: {len(FEATURES)}\")"
      ]
    },
    {
      "cell_type": "markdown",
      "metadata": {
        "id": "58S7MkNkeISI"
      },
      "source": [
        "### 2.3. Correlations"
      ]
    },
    {
      "cell_type": "markdown",
      "metadata": {
        "id": "zA8qtNf3eISI"
      },
      "source": [
        " $\\color{Aqua}{\\textsf{Short question}}$\n",
        "- Plot some features against the target property and calculate the Pearson and Spearman correlation coefficient (what is the different between those correlation coefficients?)\n",
        "- What are the strongest correlations? Did you expect them?\n",
        "- What can be a problem when features are correlated?\n",
        "- *Optional:* Do they change if you switch from CO$_2$ uptake at high pressure to low pressure `CO2 uptake at 0.15 bar and 298K`?  Explain your observation."
      ]
    },
    {
      "cell_type": "markdown",
      "metadata": {
        "id": "kwjgRFtheISJ"
      },
      "source": [
        "To get the correlation matrices, you can use the `df.corr(method=)`method on your dataframe (`df`). You might want to calculate not the full correlation matrix but just the correlation of the features with the targets"
      ]
    },
    {
      "cell_type": "markdown",
      "metadata": {
        "id": "fF2Z9yQ7eISJ"
      },
      "source": [
        "<details>\n",
        "<summary> <font color='green'>Click here for a hint</font></summary>\n",
        "<ul>\n",
        "    <li> To get the correlation with a target, you can use indexing. E.g. <code>df.corr(method='spearman')[TARGET]</code></li>\n",
        "    <li> use <code>.sort_values()</code> method on the output of `df.corr()` to sort by the value of the correlation coefficient  </li>\n",
        "    <li> Scatter plot of TARGET vs. one descriptor (e.g., Density) </li>\n",
        "</ul>\n",
        "</details>"
      ]
    },
    {
      "cell_type": "code",
      "execution_count": null,
      "metadata": {
        "id": "8NgiYMyHeISJ"
      },
      "outputs": [],
      "source": [
        "# add code here\n",
        "# Calculate the correlation of all features with the target\n"
      ]
    },
    {
      "cell_type": "markdown",
      "metadata": {
        "id": "EnkMLQkveISJ"
      },
      "source": [
        "## 3. Baselines"
      ]
    },
    {
      "cell_type": "markdown",
      "metadata": {
        "id": "NqD2rRa3eISJ"
      },
      "source": [
        "For machine learning, it is important to have some *baselines* to which one then compares the results of a model. Think of a classification model for some rare disease where we only have 1% postives. A classification model that only predictes the negatives *all the time* will still have a amazingly high accuracy. To be able to understand if our model is really better than such a simple prediction we need to make the simple prediction first. This is what we call a baseline.\n",
        "\n",
        "A baseline could be a really simple model, a basic heuristic or the current state of the art (SOTA).\n",
        "this. We will use a heuristic but if you aim for a publication, a baseline for you will be the state of the art model."
      ]
    },
    {
      "cell_type": "markdown",
      "metadata": {
        "id": "LAK6SBsSeISJ"
      },
      "source": [
        "For this we use sklearn `Dummy` objects that simply calculate the mean, the median or the most frequent case of the training set, when you run the `fit()` method on them (which takes the features matrix $\\mathbf{X}$ and the labels $\\mathbf{y}$ as arguments.\n",
        "This is, the prediction of a `DummyRegressor` with `mean` strategy will always be the mean, independent of the input (it will not look at the feature matrix!).\n",
        "\n",
        "Instead of using those `sklearn` objects you could also just manually compute the the mean or median of the dataset. But we will use those objects as we can learn in this way how to use estimators in `sklearn` and it is also allows you to test your full pipeline with different (baseline) models.\n",
        "What does this mean? In practice this means that you can use all the regression and classification models shown in the figure below in the same way, they will all have a `fit()` method that accepts `X` and `y` and a predict method that accepts `X` and returns the predictions.\n",
        "\n",
        "\n",
        "<img src=\"https://scikit-learn.org/1.3/_static/ml_map.png\" alt=\"ML Map\" width=\"800\"/>\n",
        "\n",
        "The estimator objects can be always used in the same way\n",
        "\n",
        "<img src=\"https://static.packt-cdn.com/products/9781789800265/graphics/d49a2e95-8f22-42ed-89f1-474b3d028787.png\" alt=\"ML Map\" width=\"400\"/>\n",
        "\n",
        "Using these objects, instead of the mean directly, allows you to easily swap them with other models in pipelines, where one chains many data transformation steps (see section 6)."
      ]
    },
    {
      "cell_type": "markdown",
      "metadata": {
        "id": "NVk4CbtueISJ"
      },
      "source": [
        "### 3.1. Build dummy models"
      ]
    },
    {
      "cell_type": "markdown",
      "metadata": {
        "id": "gyH3YsF0eISJ"
      },
      "source": [
        " $\\color{Aqua}{\\textsf{Short question}}$\n",
        "- If you call `.fit(X, y)` on a `DummyRegressor` does it actually use the `X`? If not, why is there still the place for the `X` in the function? If yes, how does it use it?\n",
        "\n",
        " $\\color{Aqua}{\\textsf{Short question}}$\n",
        "- Create [`DummyRegressor`](https://scikit-learn.org/stable/modules/generated/sklearn.dummy.DummyRegressor.html) instances for  `mean`, `median`. (e.g. `dummyinstance = DummyRegressor(strategy='mean')`)\n",
        "- Train them on the training data (`dummyinstance.fit(df_train[FEATURES], df_train[TARGET])`)"
      ]
    },
    {
      "cell_type": "markdown",
      "metadata": {
        "id": "KovfN4qFeISK"
      },
      "source": [
        "<details>\n",
        "<summary> <font color='green'>Click here for hints</font></summary>\n",
        "<ul>\n",
        "    <li> to create <code>DummyRegressor</code> you can for example use <code> dummyregressor_mean = DummyRegressor(strategy='mean') </code> </li>\n",
        "    <li> to see the implementation of the <code>DummyRegressor</code> you can check out <a href=\"https://github.com/scikit-learn/scikit-learn/blob/73732e5a0bc9b72c7049dc699d69aaedbb70ef0a/sklearn/dummy.py#L391\"> the source code on GitHub</a> </li>\n",
        "</ul>\n",
        "</details>"
      ]
    },
    {
      "cell_type": "code",
      "execution_count": null,
      "metadata": {
        "id": "0iS3jxb4eISK"
      },
      "outputs": [],
      "source": [
        "# your code here\n",
        "# Build DummyRegressors\n",
        "dummyregressor_mean = DummyRegressor(strategy='mean')\n",
        "dummyregressor_median = DummyRegressor( #fillme"
      ]
    },
    {
      "cell_type": "code",
      "execution_count": null,
      "metadata": {
        "id": "cMr_ZNC2eISK"
      },
      "outputs": [],
      "source": [
        "# Fit Dummy Regressors\n",
        "dummyregressor_mean.fit(df_train_stratified[FEATURES], df_train_stratified[TARGET])\n",
        "dummyregressor_median. #fillme"
      ]
    },
    {
      "cell_type": "markdown",
      "metadata": {
        "id": "C1pgN1jReISK"
      },
      "source": [
        "#### Evaluate the performance of the dummy models"
      ]
    },
    {
      "cell_type": "markdown",
      "metadata": {
        "id": "nLd0UiGyeISK"
      },
      "source": [
        " $\\color{Aqua}{\\textsf{Short questions}}$\n",
        "- Calculate maximum error, mean absolute error and mean square error for the dummy regressors on training and test set. What would you expect those numbers to be?\n",
        "- Do the actual values surprise you?\n",
        "- What does this mean in practice for reporting of metrics/the reasoning behind using baseline models"
      ]
    },
    {
      "cell_type": "markdown",
      "metadata": {
        "id": "wpjDY82DeISK"
      },
      "source": [
        "It can be handy to store our metrics of choice in a nested dictionary ([Python dictionaries are key-value pairs](https://www.tutorialspoint.com/python/python_dictionary.htm)):\n",
        "\n",
        "```python\n",
        "{\n",
        "    'dummyestimator1': {\n",
        "                        'metric_a_key': metric_a_value,\n",
        "                        'metric_b_key': metric_b_value\n",
        "                    },\n",
        "    'dummyestimator2': {\n",
        "                        'metric_a_key': metric_a_value,\n",
        "                        'metric_b_key': metric_b_value\n",
        "                    },\n",
        " }\n",
        "```\n",
        "\n",
        "You will now write functions `get_regression_metrics(model, X, y_true)` that compute the metrics and return this dictionary for a given model. The `predict` method takes the feature matrix $\\mathbf{X}$ as input.\n",
        "\n",
        "In them, we calculate\n",
        "\n",
        "$\\mathrm {MAE} =\\frac{\\sum _{i=1}^{n}\\left|Y_{i}-\\hat{y}_{i}\\right|}{n}.$\n",
        "\n",
        ",\n",
        "\n",
        "$\\mathrm {MSE} = {\\frac {1}{n}}\\sum _{i=1}^{n}(Y_{i}-{\\hat {Y_{i}}})^{2}.$\n",
        "\n",
        "$\\mathrm{MAPE} = \\frac{1}{n} \\sum_{i=1}^{n} \\left| \\frac{Y_i - \\hat{Y}_i}{max (\\epsilon,Y_i)} \\right|$\n",
        "\n",
        "where $\\hat{y}$ are the predictions and, $Y_{i}$ the true values.\n",
        "\n",
        "We also include maximum error which is a good indication for generalization in many cases.\n",
        "\n",
        "See more information on [sklearn's Metrics and scoring: quantifying the quality of predictions](https://scikit-learn.org/stable/modules/model_evaluation.html#mean-absolute-percentage-error)\n",
        "\n"
      ]
    },
    {
      "cell_type": "markdown",
      "metadata": {
        "id": "_jhr8ajUeISK"
      },
      "source": [
        "<details>\n",
        "<summary> <font color='green'>Click here for hints</font></summary>\n",
        "<ul>\n",
        "    <li> to perform a prediction using a estimator object, you can call <code> classifier.predict(X) </code> </li>\n",
        "    <li> to calculate metrics, you can for example call <code>accuracy_score(true_values, predicted_values) </code> </li>\n",
        "</ul>\n",
        "</details>"
      ]
    },
    {
      "cell_type": "code",
      "execution_count": null,
      "metadata": {
        "id": "nc9ouIeYeISL"
      },
      "outputs": [],
      "source": [
        "def get_regression_metrics(model, X, y_true):\n",
        "    \"\"\"\n",
        "    Get a dicionary with regression metrics:\n",
        "\n",
        "    model: sklearn model with predict method\n",
        "    X: feature matrix\n",
        "    y_true: ground truth labels\n",
        "    \"\"\"\n",
        "    y_predicted = #fillme\n",
        "\n",
        "    mae = #fillme\n",
        "    mse = #fillme\n",
        "    maximum_error = #fillme\n",
        "    mape =  #fillme\n",
        "\n",
        "    metrics_dict = {\n",
        "        'mae': mae,\n",
        "        'mse': mse,\n",
        "        'max_error': maximum_error,\n",
        "        'mape': mape\n",
        "    }\n",
        "\n",
        "    return metrics_dict"
      ]
    },
    {
      "cell_type": "code",
      "execution_count": null,
      "metadata": {
        "id": "pEnDvf9FeISL"
      },
      "outputs": [],
      "source": [
        "dummy_regressors = [\n",
        "    ('mean', dummyregressor_mean),\n",
        "    ('median', dummyregressor_median)\n",
        "]"
      ]
    },
    {
      "cell_type": "code",
      "execution_count": null,
      "metadata": {
        "id": "XBAMINu3eISL"
      },
      "outputs": [],
      "source": [
        "dummy_regressor_results_test = {} # initialize empty dictionary\n",
        "dummy_regressor_results_train = {}\n",
        "\n",
        "# loop over the dummy_regressor list\n",
        "# if you have a tuple regressorname, regressor = (a, b) that is automatically expanded into the variables\n",
        "# a = regressorname, b = regressor\n",
        "for regressorname, regressor in dummy_regressors:\n",
        "    print(f\"Calculating metrics for {regressorname}\")\n",
        "    dummy_regressor_results_test[regressorname] = get_regression_metrics(regressor, df_test[FEATURES], df_test[TARGET])\n",
        "    dummy_regressor_results_train[regressorname] = get_regression_metrics(regressor, df_train[FEATURES], df_train[TARGET])"
      ]
    },
    {
      "cell_type": "code",
      "execution_count": null,
      "metadata": {
        "id": "GM3hrR65eISL"
      },
      "outputs": [],
      "source": [
        "print(\"Dummy Regressor Results - Train & Test Set\")\n",
        "\n",
        "for regressorname, metrics in dummy_regressor_results_train.items():\n",
        "    print(f\"{regressorname} (Train): {metrics}\")\n",
        "\n",
        "for regressorname, metrics in dummy_regressor_results_test.items():\n",
        "    print(f\"{regressorname} (Test): {metrics}\")\n"
      ]
    },
    {
      "cell_type": "markdown",
      "metadata": {
        "id": "t71IBEVReISL"
      },
      "source": [
        "## 4. Building a linear regression model\n",
        "\n",
        "In practice, we often rely on optimized libraries such as **scikit-learn** for machine learning models.  \n",
        "They are fast, robust, and widely used.  \n",
        "\n",
        "However, to really understand *what happens under the hood*, it is useful to **implement a simple linear regression model ourselves**.  \n",
        "\n",
        "### Goals for this section:\n",
        "- Implement **gradient descent** for linear regression.\n",
        "- Compare results between **gradient descent** and the **closed-form (normal equation)** solution.\n",
        "- Use **scikit-learn**'s `LinearRegression` as a baseline for comparison.\n"
      ]
    },
    {
      "cell_type": "markdown",
      "metadata": {
        "id": "2tg0dgtCeISL"
      },
      "source": [
        "### 4.1 sklearn linear regression\n",
        "\n",
        "Let's first use the sklearn model to get a good baseline for comparison.\n",
        "You can see with few lines below, we can train a machine learning model.\n",
        "The code is very flexible and you can essentially replace the linear regression with other models in sklearn."
      ]
    },
    {
      "cell_type": "markdown",
      "metadata": {
        "id": "HosnxrJQeISM"
      },
      "source": [
        "Write the code below to train and evaluate a linear regression model using sklearn's `LinearRegression` class."
      ]
    },
    {
      "cell_type": "code",
      "execution_count": null,
      "metadata": {
        "id": "NkY-LEYeeISM"
      },
      "outputs": [],
      "source": [
        "# Initialize the Linear Regression model\n",
        "linear_regressor = LinearRegression()\n",
        "\n",
        "# Train the model on the training data\n",
        "# FILLME\n",
        "\n",
        "# Evaluate the model on the training and test sets\n",
        "# FILLME\n",
        "\n",
        "# Print the results\n",
        "print(\"Linear Regression Results - Train Set:\", linear_regressor_results_train)\n",
        "print(\"Linear Regression Results - Test Set:\", linear_regressor_results_test)"
      ]
    },
    {
      "cell_type": "markdown",
      "metadata": {
        "id": "s2hTYrpCeISM"
      },
      "source": [
        "### 4.1 Linear regression from scratch\n",
        "\n",
        "Now, let's code a linear regression to see if we understand all parts. Specifically, we are going to code the gradient descent for our regressor to fit its parameters.\n",
        "\n",
        "The class below supports:\n",
        "- `method=\"normal\"`: closed-form solution using the normal equation  \n",
        "- `method=\"gd\"`: gradient descent with configurable learning rate and iterations  \n",
        "- Optional standardization of features for smoother optimization  \n"
      ]
    },
    {
      "cell_type": "markdown",
      "metadata": {
        "id": "Hr068GTpeISM"
      },
      "source": [
        "Code the missing part in the gradient descent."
      ]
    },
    {
      "cell_type": "code",
      "execution_count": null,
      "metadata": {
        "id": "32GKVVHoeISM"
      },
      "outputs": [],
      "source": [
        "class MyLinearRegression:\n",
        "    def __init__(self, fit_intercept=True, standardize=False, method=\"normal\",\n",
        "                 lr=1e-2, n_iters=100, tol=1e-8, random_state=0):\n",
        "        \"\"\"\n",
        "        method: \"normal\" (closed-form) or \"gd\" (gradient descent, MSE loss)\n",
        "        \"\"\"\n",
        "        self.fit_intercept = fit_intercept\n",
        "        self.standardize = standardize\n",
        "        self.method = method\n",
        "        self.lr = lr\n",
        "        self.n_iters = n_iters\n",
        "        self.tol = tol\n",
        "        self.random_state = random_state\n",
        "        self.coef_ = None\n",
        "        self.intercept_ = 0.0\n",
        "        self._x_mean = None\n",
        "        self._x_std = None\n",
        "\n",
        "    def _prepare_X(self, X, fit=False):\n",
        "        X = np.asarray(X, dtype=float)\n",
        "        if fit and self.standardize:\n",
        "            self._x_mean = X.mean(axis=0, keepdims=True)\n",
        "            self._x_std = X.std(axis=0, keepdims=True)\n",
        "            self._x_std[self._x_std == 0] = 1.0\n",
        "        if self.standardize:\n",
        "            Xs = (X - self._x_mean) / self._x_std\n",
        "        else:\n",
        "            Xs = X\n",
        "        if self.fit_intercept:\n",
        "            Xs = np.c_[np.ones((Xs.shape[0], 1)), Xs]\n",
        "        return Xs\n",
        "\n",
        "    def fit(self, X, y):\n",
        "        rng = np.random.default_rng(self.random_state)\n",
        "        X = np.asarray(X, dtype=float)\n",
        "        y = np.asarray(y, dtype=float).reshape(-1,)\n",
        "\n",
        "        Xp = self._prepare_X(X, fit=True)\n",
        "\n",
        "        # NORMAL EQUATION\n",
        "        if self.method == \"normal\":\n",
        "            # theta = (X^T X)^{-1} X^T y  with ridge-like jitter for stability\n",
        "            XT_X = Xp.T @ Xp\n",
        "            # add tiny jitter to diagonal to avoid singular matrix in edge cases\n",
        "            jitter = 1e-12 * np.eye(XT_X.shape[0])\n",
        "            theta = np.linalg.pinv(XT_X + jitter) @ (Xp.T @ y)\n",
        "\n",
        "        # GRADIENT DESCENT\n",
        "        elif self.method == \"gd\":\n",
        "            # Add your code here\n",
        "            n_features = Xp.shape[1]\n",
        "            theta = rng.normal(scale=0.01, size=n_features)\n",
        "            prev_loss = np.inf\n",
        "            for i in range(self.n_iters):\n",
        "                y_pred = Xp @ theta\n",
        "                residuals = y_pred - y\n",
        "                loss = #FILLME\n",
        "                if abs(prev_loss - loss) < self.tol:\n",
        "                    break\n",
        "                prev_loss = loss\n",
        "                grad = (Xp.T @ residuals) / len(y)\n",
        "                theta -= #FILLME\n",
        "        else:\n",
        "            raise ValueError(\"method must be 'normal' or 'gd'\")\n",
        "\n",
        "        # unpack theta into intercept and coefficients\n",
        "        if self.fit_intercept:\n",
        "            self.intercept_ = float(theta[0])\n",
        "            self.coef_ = theta[1:]\n",
        "        else:\n",
        "            self.intercept_ = 0.0\n",
        "            self.coef_ = theta\n",
        "        return self\n",
        "\n",
        "    def predict(self, X):\n",
        "        X = np.asarray(X, dtype=float)\n",
        "        if self.standardize:\n",
        "            Xs = (X - self._x_mean) / self._x_std\n",
        "        else:\n",
        "            Xs = X\n",
        "        return self.intercept_ + Xs @ self.coef_"
      ]
    },
    {
      "cell_type": "code",
      "execution_count": null,
      "metadata": {
        "id": "USJfSiYEeISM"
      },
      "outputs": [],
      "source": [
        "# Initialize two Linear Regression model with different optimization methods\n",
        "my_linear_regressor_gd = MyLinearRegression(fit_intercept=True, standardize=True, method=\"gd\")\n",
        "my_linear_regressor_cf = MyLinearRegression(fit_intercept=True, standardize=True, method=\"normal\")\n",
        "\n",
        "# Train the model on the training data\n",
        "my_linear_regressor_gd.fit(df_train_stratified[FEATURES], df_train_stratified[TARGET])\n",
        "my_linear_regressor_cf.fit(df_train_stratified[FEATURES], df_train_stratified[TARGET])\n",
        "\n",
        "# Evaluate the model on the training and test sets\n",
        "my_linear_regressor_gd_results_test = get_regression_metrics(\n",
        "    my_linear_regressor_gd, df_train_stratified[FEATURES], df_train_stratified[TARGET]\n",
        ")\n",
        "my_linear_regressor_cf_results_test = get_regression_metrics(\n",
        "    my_linear_regressor_cf, df_test_stratified[FEATURES], df_test_stratified[TARGET]\n",
        ")"
      ]
    },
    {
      "cell_type": "code",
      "execution_count": null,
      "metadata": {
        "id": "U3GUpfETeISM"
      },
      "outputs": [],
      "source": [
        "# comparing results\n",
        "print(\"Linear Regression Results - sklearn:\", linear_regressor_results_test)\n",
        "print(\"Linear Regression Results - cf:\", my_linear_regressor_cf_results_test)\n",
        "print(\"Linear Regression Results - gd:\", my_linear_regressor_gd_results_test)\n"
      ]
    },
    {
      "cell_type": "markdown",
      "metadata": {
        "id": "LWGyQN_CeISN"
      },
      "source": [
        "We can see how gradient descent results would be changing its parameters, namely learning rate and number of iterations.\n",
        "Use the sliders to change the **learning rate** and the **number of iterations**.  \n",
        "We’ll refit our custom gd model, plot the **loss vs. iteration**, and print evaluation metrics."
      ]
    },
    {
      "cell_type": "code",
      "execution_count": null,
      "metadata": {
        "id": "eIYOwwhaeISN"
      },
      "outputs": [],
      "source": [
        "my_linear_regressor_gd = MyLinearRegression(fit_intercept=True, standardize=True, method=\"gd\",lr=1e-2, n_iters=1000)\n",
        "my_linear_regressor_gd.fit(df_train_stratified[FEATURES], df_train_stratified[TARGET])\n",
        "my_linear_regressor_gd_results_test = get_regression_metrics(\n",
        "    my_linear_regressor_gd, df_train_stratified[FEATURES], df_train_stratified[TARGET]\n",
        ")\n",
        "print(\"Linear Regression Results - gd:\", my_linear_regressor_gd_results_test)"
      ]
    },
    {
      "cell_type": "code",
      "execution_count": null,
      "metadata": {
        "id": "7eW98zYveISN"
      },
      "outputs": [],
      "source": [
        "from ipywidgets import interact, FloatLogSlider, IntSlider, fixed\n",
        "from IPython.display import display\n",
        "\n",
        "def run_gd_and_plot(lr, n_iters, df, FEATURES, TARGET, get_regression_metrics):\n",
        "    model = MyLinearRegression(\n",
        "        fit_intercept=True,\n",
        "        standardize=True,\n",
        "        method=\"gd\",\n",
        "        lr=lr,\n",
        "        n_iters=n_iters,\n",
        "        tol=1e-12,\n",
        "        random_state=0\n",
        "    )\n",
        "    model.fit(df[FEATURES].values, df[TARGET].values)\n",
        "\n",
        "    metrics = get_regression_metrics(model, df[FEATURES], df[TARGET])\n",
        "\n",
        "    plt.figure(figsize=(6,4))\n",
        "    plt.xlabel(\"Iteration\")\n",
        "    plt.ylabel(\"Loss (MSE/2)\")\n",
        "    plt.title(f\"lr={lr:.1e}, iters={n_iters}, MAE={metrics['mae']:.2f}, MAPE={metrics['mape']:.2f}\")\n",
        "    plt.plot(df[TARGET].values, model.predict(df[FEATURES].values), 'o', alpha=0.3)\n",
        "    plt.plot(df[TARGET].values, df[TARGET].values, 'k--', label=\"y=x\")\n",
        "    plt.xlim(0.95*df[TARGET].min(), 1.05*df[TARGET].max())\n",
        "    plt.ylim(0.95*df[TARGET].min(), 1.05*df[TARGET].max())\n",
        "    plt.legend()\n",
        "    plt.show()"
      ]
    },
    {
      "cell_type": "code",
      "execution_count": null,
      "metadata": {
        "id": "pCHTGqEQeISN"
      },
      "outputs": [],
      "source": [
        "interact(\n",
        "    run_gd_and_plot,\n",
        "    lr=FloatLogSlider(value=1e-4, base=10, min=-5, max=0, step=0.1, description=\"learning rate\"),\n",
        "    n_iters=IntSlider(value=100, min=10, max=10000, step=50, description=\"iterations\"),\n",
        "    df=fixed(df_train_stratified),\n",
        "    FEATURES=fixed(FEATURES),\n",
        "    TARGET=fixed(TARGET),\n",
        "    get_regression_metrics=fixed(get_regression_metrics)\n",
        ")"
      ]
    },
    {
      "cell_type": "markdown",
      "metadata": {
        "id": "g6F3J6xgeISN"
      },
      "source": [
        "$\\color{Aqua}{\\textsf{Short Exercise}}$\n",
        "- what happens when the learning rate is too small?\n",
        "- What about when it is too large?\n",
        "\n",
        "<details>\n",
        "<summary> <font color='green'>Click here for a hint</font></summary>\n",
        "<ul>\n",
        "    <li> Too small leads to extremely slow convergance and too large can lead to overshoot!</li>\n",
        "</ul>\n",
        "</details>"
      ]
    },
    {
      "cell_type": "markdown",
      "metadata": {
        "id": "9Ip0RHUIeISN"
      },
      "source": [
        "## 5. Build a Kernel Ridge Regression Model"
      ]
    },
    {
      "cell_type": "markdown",
      "metadata": {
        "id": "iMZeie4veISO"
      },
      "source": [
        "Let's build a simple [kernel ridge regression (KRR)](https://emtiyaz.github.io/pcml15/kernel-ridge-regression.pdf) machine learning model and train it with our raw data.\n",
        "You can try different kernels, but we recommend to start with the Gaussian radial basis function ('rbf') kernel.\n",
        "\n",
        " $\\color{Aqua}{\\textsf{Short question}}$\n",
        "- Do you expect this model to perform better than the dummy models?\n",
        "- Train it and then calculate the performance metrics on the training and test set. How do they compare to the performance of the dummy models?\n",
        "- What is the shape of the Kernel and of the weights? (you can check your answer by looking at the `dual_coef_` attribute of the KRR instance. You can get shapes of objects using the `shape` atrribute"
      ]
    },
    {
      "cell_type": "code",
      "execution_count": null,
      "metadata": {
        "id": "ZsZf3g0meISO"
      },
      "outputs": [],
      "source": [
        "# Train the model with a Gaussian kernel\n",
        "krr = KernelRidge(kernel='rbf')\n",
        "krr.fit(#fillme)"
      ]
    },
    {
      "cell_type": "code",
      "execution_count": null,
      "metadata": {
        "id": "RnHlaUCVeISO"
      },
      "outputs": [],
      "source": [
        "# get the metrics on the train and the test set using the get_regression_metrics functions (as above)"
      ]
    },
    {
      "cell_type": "markdown",
      "metadata": {
        "id": "IPzCoQoVeISO"
      },
      "source": [
        "## 6. Evaluate the model performance in detail"
      ]
    },
    {
      "cell_type": "markdown",
      "metadata": {
        "id": "DGMtQaxxeISO"
      },
      "source": [
        "We have trained our first machine learning model!\n",
        "We'll first have a closer look at its performance, before learning how to improve it."
      ]
    },
    {
      "cell_type": "markdown",
      "metadata": {
        "id": "j1IdzWZ9eISO"
      },
      "source": [
        " $\\color{Aqua}{\\textsf{Short Exercise}}$\n",
        "- Create a parity plot (true values against predictions)for the training and test data\n",
        "- Plot a histogram of the distribution of the training and test errors on the training and test set. Plot the errors also as a function of the true value\n",
        "- Let's assume we would like to use our model for pre-screening a library of millions of porous materials to zoom-in on those with the most promising gas uptake. Could you tolerate the errors of your model?\n",
        "- Compare the parity plots for this model with the ones for the dummy models.\n",
        "Use the plotting functions below the evaluate all the following models you train.\n",
        "\n",
        "For this exercise, it can be handy to save the results in a dictionary, e.g.\n",
        "```(python)\n",
        "res_train = {\n",
        "    'y true': [],\n",
        "    'y pred': []\n",
        "}\n",
        "```"
      ]
    },
    {
      "cell_type": "markdown",
      "metadata": {
        "id": "pFj1HBFUeISO"
      },
      "source": [
        "<details>\n",
        "<summary> <font color='green'>Click here for hints for plotting</font></summary>\n",
        "<ul>\n",
        "    <li> If you want to use matplotlib to make the parity plots, you can use the <a href=\"https://matplotlib.org/3.1.1/api/_as_gen/matplotlib.pyplot.hist2d.html\">hist2d function</a> </li>\n",
        "    <li> To create the frequencies and the edges of a histogram, one can use <code>np.histogram</code></li>\n",
        "</ul>\n",
        "</details>"
      ]
    },
    {
      "cell_type": "code",
      "execution_count": null,
      "metadata": {
        "id": "H5v6nZ3LeISP"
      },
      "outputs": [],
      "source": [
        "# Create dictionaries with training and test results to create parity plots\n",
        "res_train = {\n",
        "    'y true': # fillme using the dataframe,\n",
        "    'y pred': # fillme using the model prediction\n",
        "}\n",
        "\n",
        "res_test = {\n",
        "    'y true': # fillme using the dataframe\n",
        "    'y pred': # fillme using the model prediction\n",
        "}"
      ]
    },
    {
      "cell_type": "markdown",
      "metadata": {
        "id": "CmbqRyW5eISP"
      },
      "source": [
        "Now, lets calculate the errors"
      ]
    },
    {
      "cell_type": "code",
      "execution_count": null,
      "metadata": {
        "id": "cf8hPvJueISP"
      },
      "outputs": [],
      "source": [
        "res_train[\"error\"] = res_train[\"y true\"] - res_train[\"y pred\"]\n",
        "res_test[\"error\"] = res_test[\"y true\"] - res_test[\"y pred\"]\n"
      ]
    },
    {
      "cell_type": "markdown",
      "metadata": {
        "id": "x0sA8YifeISP"
      },
      "source": [
        "Now, plot the parity plots and error distributions"
      ]
    },
    {
      "cell_type": "markdown",
      "metadata": {
        "id": "G_abczoIeISP"
      },
      "source": [
        "<details>\n",
        "<summary> <font color='green'>Click here for hints for plotting</font></summary>\n",
        "If you want interactive plots, you can use the following code:\n",
        "<pre><code>\n",
        "hv.extension(\"bokeh\")\n",
        "hex_train = hv.HexTiles(res_train, [\"y true\", \"y pred\"]).hist(\n",
        "    dimension=[\"y true\", \"y pred\"]\n",
        ")\n",
        "hex_test = hv.HexTiles(res_test, [\"y true\", \"y pred\"]).hist(\n",
        "    dimension=[\"y true\", \"y pred\"]\n",
        ")\n",
        "hex_train + hex_test\n",
        "</code>\n",
        "</details>"
      ]
    },
    {
      "cell_type": "code",
      "execution_count": null,
      "metadata": {
        "id": "VFKP5S7meISP"
      },
      "outputs": [],
      "source": [
        "# plot it\n",
        "hist_density(res_train['y true'], res_train['y pred'], xlabel='y true', ylabel='y pred', title='Train')"
      ]
    },
    {
      "cell_type": "code",
      "execution_count": null,
      "metadata": {
        "id": "p5j5276WeISP"
      },
      "outputs": [],
      "source": [
        "hist_density(res_test['y true'], res_test['y pred'], xlabel='y true', ylabel='y pred', title='Test')"
      ]
    },
    {
      "cell_type": "markdown",
      "metadata": {
        "id": "W5eaLxBteISQ"
      },
      "source": [
        "## 7. Improve the model"
      ]
    },
    {
      "cell_type": "markdown",
      "metadata": {
        "id": "uZtQ3aA_eISQ"
      },
      "source": [
        "Our training set still has a couple of issues you might have noticed:\n",
        "- The feature values are not scaled (different features are measured in different units ...)\n",
        "- Some features are basically constant, i.e. do not contain relevant information and just increase the dimensionality of the problem\n",
        "- Some feature distributions are skewed (which is more relevant for some models than for others ...)"
      ]
    },
    {
      "cell_type": "markdown",
      "metadata": {
        "id": "yvu1cCNneISQ"
      },
      "source": [
        "$\\color{Aqua}{\\textsf{Short Question}}$\n",
        "- Why might the scaling of the features be relevant for a machine learning model?"
      ]
    },
    {
      "cell_type": "markdown",
      "metadata": {
        "id": "eonGWYt8eISQ"
      },
      "source": [
        "### 7.1. Standard scaling and building a first pipeline"
      ]
    },
    {
      "cell_type": "markdown",
      "metadata": {
        "id": "z49Rc5LAeISQ"
      },
      "source": [
        "Given that we will now go beyond training a single model, we will build [Pipelines](https://scikit-learn.org/stable/modules/generated/sklearn.pipeline.Pipeline.html), which are objects that can collect a selection of transformations and estimators. This makes it quite easy to apply the same set of operations to different datasets. A simple pipeline might be built as follows\n",
        "\n",
        "<img src=\"https://vitalflux.com/wp-content/uploads/2020/08/ML-Pipeline-Page-2-1024x307.png\" alt=\"Pipeline\" width=\"800\"/>\n",
        "\n"
      ]
    },
    {
      "cell_type": "markdown",
      "metadata": {
        "id": "FOX7EN7ReISQ"
      },
      "source": [
        " $\\color{Aqua}{\\textsf{Short Exercise}}$\n",
        "- Build a pipline that first performs standard scaling and then fits a KRR. Call it `pipe_w_scaling`.\n",
        "- Fit it on the training set\n",
        "- Make predictions, calculate the errors and make the parity plots"
      ]
    },
    {
      "cell_type": "markdown",
      "metadata": {
        "id": "9cEIniCneISQ"
      },
      "source": [
        "<details>\n",
        "<summary> <font color='green'>Click here for hints</font></summary>\n",
        "<ul>\n",
        "    <li> the <code>fit</code>, <code>predict</code> methods also work for pipelines </li>\n",
        "</ul>\n",
        "</details>"
      ]
    },
    {
      "cell_type": "code",
      "execution_count": null,
      "metadata": {
        "id": "sNLW4RR6eISR"
      },
      "outputs": [],
      "source": [
        "pipe_w_scaling = Pipeline(\n",
        "   [\n",
        "       ('scaling', StandardScaler()),\n",
        "       ('krr', #fillme)\n",
        "   ]\n",
        ")"
      ]
    },
    {
      "cell_type": "markdown",
      "metadata": {
        "id": "qXFYAkOkeISR"
      },
      "source": [
        "### 7.2. Hyperparameter optimization"
      ]
    },
    {
      "cell_type": "markdown",
      "metadata": {
        "id": "l7uudiYTeISR"
      },
      "source": [
        "A key component we did not optimize so far are hyperparameters. Those are parameters of the model that we usually cannot learn from the data but have to fix before we train the model.\n",
        "Since we cannot learn those parameters it is not trivial to select them. Hence, what we typically do in practice is to create another set, a \"validation set\", and use it to test models trained with different hyperparameters.\n",
        "\n",
        "The most common approach to hyperparameter optimization is to define a grid of all relevant parameters and to search over the grid for the best model performance."
      ]
    },
    {
      "cell_type": "markdown",
      "metadata": {
        "id": "8Z0IdzEAeISR"
      },
      "source": [
        "$\\color{Aqua}{\\textsf{Short Exercise}}$\n",
        "- Think about which parameters you could optimize in the pipeline. Note that your KRR model has two parameters you can optimize. You can also switch off some steps by setting them to `None'.\n",
        "- For each parameter you need to define a resonable grid to search over.\n",
        "- Recall, what k-fold cross-validation does. Run the hyperparameter optimization using 5-fold cross-validation (you can adjust the number of folds according to your computational resources/impatience. It turns out at k=10 is the [best tradeoff between variance and bias](https://arxiv.org/abs/1811.12808)).\n",
        "Tune the hyperparameters until you are statisfied (e.g., until you cannot improve the cross validated error any more)\n",
        "- Why don't we use the test set for hyperparameter tuning but instead test on the validation set?\n",
        "- Evaluate the model performance by calculating the performance metrics (MAE, MSE, max error) on the training and the test set.\n",
        "- *Optional:* Instead of grid search, try to use random search on the same grid (`RandomizedSearchCV`) and fix the number of evaluations (`n_iter`) to a fraction of the number of evaluations of grid search. What do you observe and conclude?"
      ]
    },
    {
      "cell_type": "markdown",
      "metadata": {
        "id": "Be4Eet9GeISR"
      },
      "source": [
        " $\\color{DarkRed}{\\textsf{Tips}}$\n",
        "- If you want to see what is happening, set the `verbosity` argument of the `GridSearchCV` object to a higher number.\n",
        "\n",
        "- If you want to speed up the optimization, you can run it in parallel by setting the `n_jobs` argument to the number of workers. If you set it to -1 it will use all available cores. *Using all cores might freeze your computer if you do not have enough memory*\n",
        "\n",
        "- If the optimization is too slow, reduce the number of data points in your set, the number of folds or the grid size. Note that it can also be a feasible strategy to first use a coarser grid and the a finer grid for fine-tuning.\n",
        "\n",
        "- For grid search, you need to define a parameter grid, which is a dictionary of the following form:\n",
        "```(python)\n",
        "param_grid = {\n",
        "                    'pipelinestage__parameter': np.logspace(-4,1,10),\n",
        "                    'pipelinestage': [None, TransformerA(), TransformerB()]\n",
        "            }\n",
        "```\n",
        "\n",
        "- After the search, you can access the best model with `.best_estimator_` and the best parameters with `.best_params_` on the GridSearchCV instance. For example `grid_krr.best_estimator_`\n",
        "\n",
        "- If you initialize the GridSearchCV instance with `refit=True` it will automatically train the model with all training data (and not only the training folds from cross-validations)\n",
        "\n",
        "The double underscore (dunder) notation works recursively and specifies the parameters for any pipeline stage.\n",
        "For example, `ovasvm__estimator__cls__C` would specifiy the `C` parameter of the estimator in the one-versus-rest classifier `ovasvm`.\n",
        "\n",
        "You can print all parameters of the pipeline using `print(sorted(pipeline.get_params().keys()))`"
      ]
    },
    {
      "cell_type": "markdown",
      "metadata": {
        "id": "LR5v8bKEeISR"
      },
      "source": [
        "<div class=\"alert alert-block alert-warning\">\n",
        "Be aware that tight grids will drastically increase the number of experiments you will run! In some cases, it can be useful to perform the optimization in steps, i.e., first use a coarse grid and then refine in interesting regions.\n",
        "Alternatively, there are approached like <a href=\"https://www.jmlr.org/papers/volume18/16-558/16-558.pdf\"> hyperband <a> that dynamically adjust the number of data points.\n",
        "</div>"
      ]
    },
    {
      "cell_type": "markdown",
      "metadata": {
        "id": "sa5bXGu_eISS"
      },
      "source": [
        "<details>\n",
        "<summary> <font color='green'>Click here for hints about pipelines and grid search</font></summary>\n",
        "<ul>\n",
        "    <li> You can use the <code>np.logspace</code> function to generate a grid for values that you want to vary on a logarithmic scale </li>\n",
        "    <li> There are two hyperparameters for KRR: the regularization strength <code>alpha</code> and the Gaussian width  <code>gamma</code> </li>\n",
        "    <li> For the regularization strength, values between 1 and 1e-3 can be reasonable. For gamma you can use the median heuristic, gamma = 1 / median, or values between 1e-3 and 1e3</li>\n",
        "</ul>\n",
        "</details>"
      ]
    },
    {
      "cell_type": "code",
      "execution_count": null,
      "metadata": {
        "id": "YVDihHK_eISS"
      },
      "outputs": [],
      "source": [
        "# Define the parameter grid and the grid search object\n",
        "param_grid = {\n",
        "                    'scaling': [MinMaxScaler(), StandardScaler()], # test different scaling methods\n",
        "                    'krr__alpha': #fillme,\n",
        "                    'krr__#fillme': #fillme\n",
        "            }\n",
        "\n",
        "grid_krr = GridSearchCV(#your pipeline, param_grid=param_grid,\n",
        "                        cv=#number of folds, verbose=2, n_jobs=2)\n",
        "\n",
        "# optional random search\n",
        "#random_krr = RandomizedSearchCV(#your pipeline, param_distributions=param_grid, n_iter=#number of evaluations,\n",
        "#                        cv=#number of folds, verbose=2, n_jobs=2\n",
        ")"
      ]
    },
    {
      "cell_type": "code",
      "execution_count": null,
      "metadata": {
        "id": "fY98xG5ueISS"
      },
      "outputs": [],
      "source": [
        "# run the grid search by calling the fit method\n",
        "grid_krr.fit(#fillme)\n",
        "# optional random search\n",
        "# random_krr.fit(#fillme)"
      ]
    },
    {
      "cell_type": "code",
      "execution_count": null,
      "metadata": {
        "id": "_3WbREZQeISS"
      },
      "outputs": [],
      "source": [
        "# get the performance metrics\n",
        "get_regression_metrics(#fillme)"
      ]
    },
    {
      "cell_type": "markdown",
      "metadata": {
        "id": "cHxiMMMdeISS"
      },
      "source": [
        "<details>\n",
        "<summary> <font color='green'>Click here for some more information about hyperparameter optimization</font></summary>\n",
        "Grid search is not the most efficient way to perform hyperparamter optimization. Even <a href=\"http://jmlr.csail.mit.edu/papers/volume13/bergstra12a/bergstra12a.pdf\">random search was shown to be more efficient</a>. Really efficient though are Bayesian optimization approaches like <a href='https://papers.nips.cc/paper/4443-algorithms-for-hyper-parameter-optimization.pdf)'>TPE</a>. This is implemented in the hyperopt library, which is also installed in your conda environment.\n",
        "</details>"
      ]
    },
    {
      "cell_type": "markdown",
      "metadata": {
        "id": "GX4lSxldeISS"
      },
      "source": [
        "<details>\n",
        "<summary> <font color='green'>Click here for hyperparameter optimization with hyperopt (advanded and optional outlook)</font></summary>\n",
        "    \n",
        "<b>Import the tools we need</b>\n",
        "<code>\n",
        "from hyperopt import fmin, tpe, hp, STATUS_OK, Trials, mix, rand, anneal, space_eval\n",
        "from functools import partial\n",
        "</code>    \n",
        "\n",
        "<b>Define the grid</b>\n",
        "<code>\n",
        "param_hyperopt = {\n",
        "    \"krr__alpha\": hp.loguniform(\"krr__alpha\", np.log(0.001), np.log(10)),\n",
        "    \"krr__gamma\": hp.loguniform(\"krr__gamma\", np.log(0.001), np.log(10)),\n",
        "}\n",
        "</code>\n",
        "\n",
        "<b>Define the objective function</b>\n",
        "<code>\n",
        "def objective_function(params):\n",
        "    pipe.set_params(\n",
        "        **{\n",
        "            \"krr__alpha\": params[\"krr__alpha\"],\n",
        "            \"krr__gamma\": params[\"krr__gamma\"],\n",
        "        }\n",
        "    )\n",
        "    score = cross_val_score(\n",
        "        pipe, X_train, y_train, cv=10, scoring=\"neg_mean_absolute_error\"\n",
        "    ).mean()\n",
        "    return {\"loss\": -score, \"status\": STATUS_OK}\n",
        "</code>\n",
        "\n",
        "<b>We will use a search in which we mix random search, annealing and tpe</b>\n",
        "<code>\n",
        "trials = Trials()\n",
        "mix_search = partial(\n",
        "   mix.suggest,\n",
        "   p_suggest=[(0.15, rand.suggest), (0.15, anneal.suggest), (0.7, tpe.suggest)],\n",
        ")\n",
        "</code>\n",
        "\n",
        "<b>Now, we can minimize the objective function.</b>\n",
        "<code>\n",
        "best_param = fmin(\n",
        "        objective_function,\n",
        "        param_hyperopt,\n",
        "        algo=mix_search,\n",
        "        max_evals=MAX_EVALES,\n",
        "        trials=trials,\n",
        "        rstate=np.random.RandomState(RANDOM_SEED),\n",
        "    )\n",
        "</code>\n",
        "\n",
        "</details>"
      ]
    },
    {
      "cell_type": "markdown",
      "metadata": {
        "id": "iHuK6081eISS"
      },
      "source": [
        "## 10. Influence of Regularization"
      ]
    },
    {
      "cell_type": "markdown",
      "metadata": {
        "id": "vBnXQIdyeISS"
      },
      "source": [
        "## 8. Feature Engineering"
      ]
    },
    {
      "cell_type": "markdown",
      "metadata": {
        "id": "HV5iFFpFeISS"
      },
      "source": [
        "Finally, we would like to remove features with low variance. This can be done by setting a variance threshold."
      ]
    },
    {
      "cell_type": "markdown",
      "metadata": {
        "id": "6FYbxA30eIST"
      },
      "source": [
        "$\\color{Aqua}{\\textsf{Short Question}}$\n",
        "    \n",
        "- What is the reasoning behind doing this?\n",
        "- When might it go wrong and why?"
      ]
    },
    {
      "cell_type": "markdown",
      "metadata": {
        "id": "3nmGeJpseIST"
      },
      "source": [
        " $\\color{Aqua}{\\textsf{Short Exercise}}$\n",
        "- Add a variance threshold to the pipeline (select the correct function argument)\n",
        "- Use random search for hyperparameter optimization, retrain the pipeline, and calculate the performance metrics (max error, MAE, MSE) on the training and test set\n",
        "- If you could improve the predictive performance, do not forget to also run the model for the Kaggle competition!"
      ]
    },
    {
      "cell_type": "code",
      "execution_count": null,
      "metadata": {
        "id": "EerKLruJeIST"
      },
      "outputs": [],
      "source": [
        "# Define the pipeline\n",
        "pipe_variance_threshold = Pipeline(\n",
        "    # fillme with the pipeline steps\n",
        "    [\n",
        "        ('variance_treshold', VarianceThreshold(#fillme with threshold)),\n",
        "        #fillme with remaining pipeline steps\n",
        "    ]\n",
        ")"
      ]
    },
    {
      "cell_type": "code",
      "execution_count": null,
      "metadata": {
        "id": "OPyGPB7MeIST"
      },
      "outputs": [],
      "source": [
        "param_grid_variance_threshold = {\n",
        "                    'scaling': [None, StandardScaler()],\n",
        "                    'krr__alpha': #fillme,\n",
        "                    'krr__#fillme': #fillme,\n",
        "                    'variance_treshold__threshold': #fillme\n",
        "            }\n",
        "\n",
        "random_variance_treshold = RandomizedSearchCV(#your pipeline, param_distributions=param_grid, n_iter=#number of evaluations,\n",
        "                        cv=#number of folds, verbose=2, n_jobs=2)"
      ]
    },
    {
      "cell_type": "code",
      "execution_count": null,
      "metadata": {
        "id": "rG8xKGtdeIST"
      },
      "outputs": [],
      "source": [
        "# Fit the pipeline and run the evaluation\n",
        "random_variance_treshold.fit(#fillme)"
      ]
    },
    {
      "cell_type": "markdown",
      "metadata": {
        "id": "2OU__-YVeIST"
      },
      "source": [
        "$\\color{Aqua}{\\textsf{Short Exercise (optional)}}$\n",
        "- replace the variance threshold with a model-based feature selection\n",
        "`('feature_selection', SelectFromModel(LinearSVC(penalty=\"l1\")))` or [any feature selection method that you would like to try](https://scikit-learn.org/stable/modules/feature_selection.html)"
      ]
    },
    {
      "cell_type": "markdown",
      "metadata": {
        "id": "Ar6KrNv0eIST"
      },
      "source": [
        "## 9. Saving the model"
      ]
    },
    {
      "cell_type": "markdown",
      "metadata": {
        "id": "nS1NdguBeIST"
      },
      "source": [
        "Now, that we spent so much time in optimizing our model, we do not want to loose it."
      ]
    },
    {
      "cell_type": "markdown",
      "metadata": {
        "id": "zI-9Tk7HeIST"
      },
      "source": [
        " $\\color{Aqua}{\\textsf{Short Exercise}}$\n",
        "- use the [joblib library](https://scikit-learn.org/stable/modules/model_persistence.html) to save your model\n",
        "- make sure you can load it again\n"
      ]
    },
    {
      "cell_type": "code",
      "execution_count": null,
      "metadata": {
        "id": "E_N-_yDQeISU"
      },
      "outputs": [],
      "source": [
        "# Dump your model\n",
        "joblib.dump(model, filename)"
      ]
    },
    {
      "cell_type": "code",
      "execution_count": null,
      "metadata": {
        "id": "BTWit87keISU"
      },
      "outputs": [],
      "source": [
        "# Try to load it again\n",
        "model_loaded = joblib.load(filename)"
      ]
    },
    {
      "cell_type": "markdown",
      "metadata": {
        "id": "OW1b3U_ZeISU"
      },
      "source": [
        " $\\color{Aqua}{\\textsf{Short Exercise}}$\n",
        "- what happens if you set $\\alpha$  to a really small or to large value? Why is this the case explain what the parameter means using the equation derived in the lectures?\n",
        "\n",
        " To test this, fix this value in one of your pipelines, retrain the models (re-optimizing the other hyperparameters) and rerun the performance evaluation."
      ]
    },
    {
      "cell_type": "markdown",
      "metadata": {
        "id": "etMn4sMieISU"
      },
      "source": [
        "<details>\n",
        "<summary> <font color='green'>Click here for hints</font></summary>\n",
        "<ul>\n",
        "    <li> Check the derivation for ridge regression and KRR in the notes. </li>\n",
        "    <li> Also remember the loss landscapes we discussed in the lectures about LASSO. </li>\n",
        "</ul>\n",
        "</details>"
      ]
    },
    {
      "cell_type": "markdown",
      "metadata": {
        "id": "v7YEbFoLeISU"
      },
      "source": [
        "## 11. Submit your best model to Kaggle"
      ]
    },
    {
      "cell_type": "markdown",
      "metadata": {
        "id": "OKwfzfeteISU"
      },
      "source": [
        "## 12. Interpreting the model"
      ]
    },
    {
      "cell_type": "markdown",
      "metadata": {
        "id": "1mpSb9kAeISU"
      },
      "source": [
        "Now, that our model performs decently, we would like to know which features are mainly responsible for this, i.e. how the model performs its reasoning.\n",
        "> In CHE1147, we get back to this part in a couple of weeks. See course schedule for details.\n",
        "\n",
        "One method to do so is the [permutation feature importance technique](https://christophm.github.io/interpretable-ml-book/feature-importance.html)."
      ]
    },
    {
      "cell_type": "markdown",
      "metadata": {
        "id": "NZqGTWHweISU"
      },
      "source": [
        "$\\color{Aqua}{\\textsf{Short question}}$\n",
        "\n",
        "We use both descriptors that encode the pore geometry (density, pore diameters, surface areas) as well as some that describe the chemistry of the MOF (the RACs).\n",
        "- Would you expect the relative importance of these features to be different for prediction of gas adsorption at high vs low gas pressure?"
      ]
    },
    {
      "cell_type": "markdown",
      "metadata": {
        "id": "yTS3GN_OeISU"
      },
      "source": [
        "<details>\n",
        "<summary> <font color='green'>Click here for a hint</font></summary>\n",
        "<ul>\n",
        "    <li> <a href=\"https://pubs.acs.org/doi/abs/10.1021/acs.chemmater.8b02257\">An article from Diego et al.</a> (10.1021/acs.chemmater.8b02257) gives some hints.</li>\n",
        "</ul>\n",
        "</details>"
      ]
    },
    {
      "cell_type": "markdown",
      "metadata": {
        "id": "gDNs-GZ-eISV"
      },
      "source": [
        " $\\color{Aqua}{\\textsf{Short Exercise}}$\n",
        "- Complete the function `_calculate_permutation_scores` (which we took from the `sklearn` package) and which is needed to calculate the permutation feature importance using the `permutation_importance` function."
      ]
    },
    {
      "cell_type": "code",
      "execution_count": null,
      "metadata": {
        "id": "7TYFYLHMeISV"
      },
      "outputs": [],
      "source": [
        "def _calculate_permutation_scores(estimator, X, y, col_idx, random_state,\n",
        "                                  n_repeats, scorer):\n",
        "    \"\"\"Calculate score when `col_idx` is permuted. Based on the sklearn implementation\n",
        "\n",
        "    estimator: sklearn estimator object\n",
        "    X: pd.Dataframe or np.array\n",
        "    y: pd.Dataframe or np.array\n",
        "    col_idx: int\n",
        "    random_state: int\n",
        "    n_repeats: int\n",
        "    scorer: function that takes model, X and y_true as arguments\n",
        "    \"\"\"\n",
        "    random_state = check_random_state(random_state)\n",
        "\n",
        "    X_permuted = X.copy()\n",
        "    scores = np.zeros(n_repeats)\n",
        "    # get the indices\n",
        "    shuffling_idx = np.arange(X.shape[0])\n",
        "    for n_round in range(n_repeats):\n",
        "        # FILL BELOW HERE\n",
        "        # shuffle them (fill in what you want to shuffle)\n",
        "        random_state.shuffle(#fillme)\n",
        "\n",
        "        # Deal with dataframes\n",
        "        if hasattr(X_permuted, \"iloc\"):\n",
        "            # .iloc selects the indices from a dataframe and you give it [row, column]\n",
        "            col = X_permuted.iloc[shuffling_idx, col_idx]\n",
        "            col.index = X_permuted.index\n",
        "            X_permuted.iloc[:, col_idx] = col\n",
        "\n",
        "        # Deal with numpy arrays\n",
        "        else:\n",
        "            # FILL BELOW HERE\n",
        "            # array indexing is [row, column]\n",
        "            X_permuted[:, col_idx] = X_permuted[#fillme]\n",
        "\n",
        "        # Get the scores\n",
        "        feature_score = scorer(estimator, X_permuted, y)\n",
        "\n",
        "        # record the scores in array\n",
        "        scores[n_round] = feature_score\n",
        "\n",
        "    return scores"
      ]
    },
    {
      "cell_type": "markdown",
      "metadata": {
        "id": "NPv_8U1jeISV"
      },
      "source": [
        "Nothing to change in the function below, it just call the `_calculate_permutation_scores` function you just completed."
      ]
    },
    {
      "cell_type": "code",
      "execution_count": null,
      "metadata": {
        "id": "UdZA3kRQeISV"
      },
      "outputs": [],
      "source": [
        "def permutation_importance(\n",
        "    estimator,\n",
        "    X,\n",
        "    y,\n",
        "    scoring=\"neg_mean_absolute_error\",\n",
        "    n_repeats=5,\n",
        "    n_jobs=2,\n",
        "    random_state=None,\n",
        "):\n",
        "    \"\"\"Permutation importance for feature evaluation\n",
        "    estimator : object\n",
        "        An estimator that has already been :term:`fitted` and is compatible\n",
        "        with :term:`scorer`.\n",
        "    X : ndarray or DataFrame, shape (n_samples, n_features)\n",
        "        Data on which permutation importance will be computed.\n",
        "    y : array-like or None, shape (n_samples, ) or (n_samples, n_classes)\n",
        "        Targets for supervised or `None` for unsupervised.\n",
        "    scoring : string, callable or None, default=None\n",
        "        Scorer to use. It can be a single\n",
        "        string (see :ref:`scoring_parameter`) or a callable (see\n",
        "        :ref:`scoring`). If None, the estimator's default scorer is used.\n",
        "    n_repeats : int, default=5\n",
        "        Number of times to permute a feature.\n",
        "    n_jobs : int or None, default=2\n",
        "        The number of jobs to use for the computation.\n",
        "        `None` means 1 unless in a :obj:`joblib.parallel_backend` context.\n",
        "        `-1` means using all processors. See :term:`Glossary <n_jobs>`\n",
        "        for more details.\n",
        "    random_state : int, RandomState instance, or None, default=None\n",
        "        Pseudo-random number generator to control the permutations of each\n",
        "        feature. See :term:`random_state`.\n",
        "    \"\"\"\n",
        "    # Deal with dataframes\n",
        "    if not hasattr(X, \"iloc\"):\n",
        "        X = check_array(X, force_all_finite=\"allow-nan\", dtype=None)\n",
        "\n",
        "    # Precompute random seed from the random state to be used\n",
        "    # to get a fresh independent RandomState instance for each\n",
        "    # parallel call to _calculate_permutation_scores, irrespective of\n",
        "    # the fact that variables are shared or not depending on the active\n",
        "    # joblib backend (sequential, thread-based or process-based).\n",
        "    random_state = check_random_state(random_state)\n",
        "    random_seed = random_state.randint(np.iinfo(np.int32).max + 1)\n",
        "\n",
        "    # Determine scorer from user options.\n",
        "    scorer = check_scoring(estimator, scoring=scoring)\n",
        "    # get the performance score on the unpermuted data\n",
        "    baseline_score = scorer(estimator, X, y)\n",
        "\n",
        "    # run the permuted evaluations in parallel for each column\n",
        "    scores = Parallel(n_jobs=n_jobs)(\n",
        "        delayed(_calculate_permutation_scores)(\n",
        "            estimator, X, y, col_idx, random_seed, n_repeats, scorer\n",
        "        )\n",
        "        for col_idx in range(X.shape[1])\n",
        "    )\n",
        "\n",
        "    # get difference two\n",
        "    importances = baseline_score - np.array(scores)\n",
        "\n",
        "    # return the results (dictionary)\n",
        "    return Bunch(\n",
        "        importances_mean=np.mean(importances, axis=1),\n",
        "        importances_std=np.std(importances, axis=1),\n",
        "        importances=importances,\n",
        "    )\n"
      ]
    },
    {
      "cell_type": "markdown",
      "metadata": {
        "id": "uOKPq7W4eISV"
      },
      "source": [
        " $\\color{Aqua}{\\textsf{Short Exercise}}$\n",
        "- Use your function to find the five most important features.\n",
        "- Which are they? Did you expect this result?"
      ]
    },
    {
      "cell_type": "code",
      "execution_count": null,
      "metadata": {
        "id": "O4IDOcY8eISV"
      },
      "outputs": [],
      "source": [
        "permutation_results = permutation_importance(#fillme)"
      ]
    },
    {
      "cell_type": "code",
      "execution_count": null,
      "metadata": {
        "id": "OFM6K4ceeISV"
      },
      "outputs": [],
      "source": [
        "permutation_results[\"features\"] = FEATURES\n",
        "bars = hv.Bars(\n",
        "    permutation_results, \"features\", [\"importances_mean\", \"importances_std\"]\n",
        ").sort(\"importances_mean\", reverse=True)\n",
        "errors = hv.ErrorBars(\n",
        "    permutation_results, \"features\", vdims=[\"importances_mean\", \"importances_std\"]\n",
        ").sort(\"importances_mean\", reverse=True)\n",
        "\n",
        "bars * errors\n"
      ]
    },
    {
      "cell_type": "markdown",
      "metadata": {
        "id": "gY9wjdJMeISW"
      },
      "source": [
        "<details>\n",
        "<summary> <font color='green'>Click here for hints</font></summary>\n",
        "<ul>\n",
        "    <li> To get the top <emph>n</emph> indices of an array <code>a</code>, you can use <code>np.argsort(a)[-n:]</code></li>\n",
        "    <li> Get the feature names from the <code>FEATURES</code> list </li>\n",
        "    <li> combined this might look like <code>np.array(FEATURES)[np.argsort(a)[-n:]]</code></li>\n",
        "</ul>\n",
        "</details>"
      ]
    },
    {
      "cell_type": "markdown",
      "metadata": {
        "id": "3RI5T1ZneISW"
      },
      "source": [
        "<details>\n",
        "<summary> <font color='green'>Click here for more information on model interpretation</font></summary>\n",
        "The permutation feature importance technique is not a silver bullet, e.g. there are issues with correlated features.\n",
        "However, it is likely <a href='https://explained.ai/rf-importance/'>a better choice than feature importance, like impurity decrease, derived from random forests</a>).\n",
        "</details>"
      ]
    },
    {
      "cell_type": "markdown",
      "metadata": {
        "id": "VZG360mOeISW"
      },
      "source": [
        "Join the [Kaggle competition](https://www.kaggle.com/competitions/molsim-2024-ml-challenge/host/launch-checklist) for this course!\n",
        "For this you can:\n",
        "- try to continue optimizing your KRR model\n",
        "- try to use a new model ([browse the sklearn documentation](https://scikit-learn.org/) for ideas or check out [xgboost](https://xgboost.readthedocs.io/en/stable/)\n",
        "\n",
        "The important parts for us here are:\n",
        "- that you make an attempt to improve your model, discuss this attempt, and use proper models to measure potential improvement\n",
        "- we will not grade you based on how \"fancy\" or model is or how well it performs but rather on whether you do something reasonable that is well motivated in your discussion\n",
        "- you do not need to try both a model and continue optimizing your model. Doing one of them is, in principle, \"enough\"\n",
        "\n",
        "Use then your best model to create a `submission.csv` with your predictions to join the competition and upload it to the competition site.\n"
      ]
    },
    {
      "cell_type": "code",
      "execution_count": null,
      "metadata": {
        "id": "vzK_vybqeISW"
      },
      "outputs": [],
      "source": [
        "kaggle_data = pd.read_csv('data/features.csv')\n",
        "kaggle_predictions = #fillme.predict(kaggle_data[FEATURES])"
      ]
    },
    {
      "cell_type": "code",
      "execution_count": null,
      "metadata": {
        "id": "Ujm-oHnMeISW"
      },
      "outputs": [],
      "source": [
        "submission = pd.DataFrame({\"id\": kaggle_data[\"id\"], \"prediction\": kaggle_predictions})\n",
        "\n",
        "submission.to_csv(\"submission.csv\", index=False)\n"
      ]
    }
  ],
  "metadata": {
    "kernelspec": {
      "display_name": "che1147",
      "language": "python",
      "name": "python3"
    },
    "language_info": {
      "codemirror_mode": {
        "name": "ipython",
        "version": 3
      },
      "file_extension": ".py",
      "mimetype": "text/x-python",
      "name": "python",
      "nbconvert_exporter": "python",
      "pygments_lexer": "ipython3",
      "version": "3.10.18"
    },
    "colab": {
      "provenance": []
    }
  },
  "nbformat": 4,
  "nbformat_minor": 0
}